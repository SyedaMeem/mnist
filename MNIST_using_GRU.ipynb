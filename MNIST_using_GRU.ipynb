{
  "nbformat": 4,
  "nbformat_minor": 0,
  "metadata": {
    "colab": {
      "name": "MNIST using GRU.ipynb",
      "provenance": [],
      "collapsed_sections": [],
      "authorship_tag": "ABX9TyPfl2JAvXH02sFQxZTyxvYE",
      "include_colab_link": true
    },
    "kernelspec": {
      "name": "python3",
      "display_name": "Python 3"
    },
    "language_info": {
      "name": "python"
    }
  },
  "cells": [
    {
      "cell_type": "markdown",
      "metadata": {
        "id": "view-in-github",
        "colab_type": "text"
      },
      "source": [
        "<a href=\"https://colab.research.google.com/github/SyedaMeem/mnist/blob/main/MNIST_using_GRU.ipynb\" target=\"_parent\"><img src=\"https://colab.research.google.com/assets/colab-badge.svg\" alt=\"Open In Colab\"/></a>"
      ]
    },
    {
      "cell_type": "code",
      "metadata": {
        "id": "SwNmFtAR7ufa"
      },
      "source": [
        "import tensorflow as tf"
      ],
      "execution_count": null,
      "outputs": []
    },
    {
      "cell_type": "code",
      "metadata": {
        "id": "791VmBxrXped"
      },
      "source": [
        "from tensorflow import keras\n",
        "from tensorflow.keras import layers\n",
        "from tensorflow.keras.datasets import mnist"
      ],
      "execution_count": null,
      "outputs": []
    },
    {
      "cell_type": "code",
      "metadata": {
        "colab": {
          "base_uri": "https://localhost:8080/"
        },
        "id": "aVwgpYAVXp1x",
        "outputId": "060deb4f-fe0c-489a-c8a7-2fca706b2edf"
      },
      "source": [
        "(x_train,y_train),(x_test,y_test)=mnist.load_data()\n",
        "print(x_train.shape)\n",
        "print(y_train.shape)\n",
        "print(x_test.shape)\n",
        "print(y_test.shape)"
      ],
      "execution_count": null,
      "outputs": [
        {
          "output_type": "stream",
          "text": [
            "Downloading data from https://storage.googleapis.com/tensorflow/tf-keras-datasets/mnist.npz\n",
            "11493376/11490434 [==============================] - 0s 0us/step\n",
            "(60000, 28, 28)\n",
            "(60000,)\n",
            "(10000, 28, 28)\n",
            "(10000,)\n"
          ],
          "name": "stdout"
        }
      ]
    },
    {
      "cell_type": "code",
      "metadata": {
        "id": "WeSDfM5maNVe"
      },
      "source": [
        "#converting float64->float32 to minimize computation\n",
        "#divide by 255 gray level value to normalize all pixels values between 0 to 1\n",
        "\n",
        "x_train=x_train.astype(\"float32\")/255.0\n",
        "x_test=x_test.astype(\"float32\")/255.0\n"
      ],
      "execution_count": null,
      "outputs": []
    },
    {
      "cell_type": "code",
      "metadata": {
        "id": "Y0be0qAldZhr",
        "colab": {
          "base_uri": "https://localhost:8080/"
        },
        "outputId": "01eaa193-9a49-4e89-9eda-04bc0a2f79aa"
      },
      "source": [
        "##GRU Network\n",
        "#(None,28)->we don't have specific timestamp but we have 28 pixels in each timestamp\n",
        "\n",
        "model=keras.Sequential()\n",
        "model.add(keras.Input(shape=(None,28)))\n",
        "model.add(layers.GRU(256,return_sequences=True,activation='tanh'))\n",
        "model.add(layers.GRU(256,activation='tanh'))\n",
        "model.add(layers.Dense(10))\n",
        "\n",
        "print(model.summary())\n"
      ],
      "execution_count": null,
      "outputs": [
        {
          "output_type": "stream",
          "text": [
            "Model: \"sequential\"\n",
            "_________________________________________________________________\n",
            "Layer (type)                 Output Shape              Param #   \n",
            "=================================================================\n",
            "gru (GRU)                    (None, None, 256)         219648    \n",
            "_________________________________________________________________\n",
            "gru_1 (GRU)                  (None, 256)               394752    \n",
            "_________________________________________________________________\n",
            "dense (Dense)                (None, 10)                2570      \n",
            "=================================================================\n",
            "Total params: 616,970\n",
            "Trainable params: 616,970\n",
            "Non-trainable params: 0\n",
            "_________________________________________________________________\n",
            "None\n"
          ],
          "name": "stdout"
        }
      ]
    },
    {
      "cell_type": "code",
      "metadata": {
        "id": "VrCSXORSciQs"
      },
      "source": [
        "##Training  network configuration\n",
        "# from_logits=True ->it's going to send the softmax function to the output layer of the network \n",
        "#and then it's going to map it to sparse categorical cross entropy\n",
        "\n",
        "model.compile(\n",
        "    loss=keras.losses.SparseCategoricalCrossentropy(from_logits=True),\n",
        "    optimizer=keras.optimizers.Adam(lr=0.001),\n",
        "    metrics=[\"accuracy\"],\n",
        ")"
      ],
      "execution_count": null,
      "outputs": []
    },
    {
      "cell_type": "code",
      "metadata": {
        "colab": {
          "base_uri": "https://localhost:8080/"
        },
        "id": "WzGAVWkZctvP",
        "outputId": "3dddfbda-96f6-46a3-b561-2f88b68d185f"
      },
      "source": [
        "#More of the concrete training of that network\n",
        "\n",
        "model.fit(x_train,y_train,batch_size=64,epochs=10,verbose=2)\n",
        "model.evaluate(x_test,y_test,batch_size=64,verbose=2)\n"
      ],
      "execution_count": null,
      "outputs": [
        {
          "output_type": "stream",
          "text": [
            "Epoch 1/10\n",
            "938/938 - 225s - loss: 0.2748 - accuracy: 0.9086\n",
            "Epoch 2/10\n",
            "938/938 - 219s - loss: 0.0679 - accuracy: 0.9788\n",
            "Epoch 3/10\n",
            "938/938 - 217s - loss: 0.0450 - accuracy: 0.9862\n",
            "Epoch 4/10\n",
            "938/938 - 217s - loss: 0.0362 - accuracy: 0.9895\n",
            "Epoch 5/10\n",
            "938/938 - 217s - loss: 0.0283 - accuracy: 0.9909\n",
            "Epoch 6/10\n",
            "938/938 - 218s - loss: 0.0264 - accuracy: 0.9915\n",
            "Epoch 7/10\n",
            "938/938 - 226s - loss: 0.0216 - accuracy: 0.9933\n",
            "Epoch 8/10\n",
            "938/938 - 247s - loss: 0.0189 - accuracy: 0.9942\n",
            "Epoch 9/10\n",
            "938/938 - 247s - loss: 0.0161 - accuracy: 0.9947\n",
            "Epoch 10/10\n",
            "938/938 - 245s - loss: 0.0153 - accuracy: 0.9952\n",
            "157/157 - 13s - loss: 0.0357 - accuracy: 0.9893\n"
          ],
          "name": "stdout"
        },
        {
          "output_type": "execute_result",
          "data": {
            "text/plain": [
              "[0.03565394878387451, 0.989300012588501]"
            ]
          },
          "metadata": {
            "tags": []
          },
          "execution_count": 7
        }
      ]
    }
  ]
}