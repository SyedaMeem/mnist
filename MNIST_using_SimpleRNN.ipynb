{
  "nbformat": 4,
  "nbformat_minor": 0,
  "metadata": {
    "colab": {
      "name": "MNIST using SimpleRNN.ipynb",
      "provenance": [],
      "collapsed_sections": [],
      "authorship_tag": "ABX9TyPFj9Yoo7q6ANWCT0vI2EkW",
      "include_colab_link": true
    },
    "kernelspec": {
      "name": "python3",
      "display_name": "Python 3"
    },
    "language_info": {
      "name": "python"
    }
  },
  "cells": [
    {
      "cell_type": "markdown",
      "metadata": {
        "id": "view-in-github",
        "colab_type": "text"
      },
      "source": [
        "<a href=\"https://colab.research.google.com/github/SyedaMeem/mnist/blob/main/MNIST_using_SimpleRNN.ipynb\" target=\"_parent\"><img src=\"https://colab.research.google.com/assets/colab-badge.svg\" alt=\"Open In Colab\"/></a>"
      ]
    },
    {
      "cell_type": "code",
      "metadata": {
        "id": "SwNmFtAR7ufa"
      },
      "source": [
        "import tensorflow as tf"
      ],
      "execution_count": null,
      "outputs": []
    },
    {
      "cell_type": "code",
      "metadata": {
        "id": "791VmBxrXped"
      },
      "source": [
        "from tensorflow import keras\n",
        "from tensorflow.keras import layers\n",
        "from tensorflow.keras.datasets import mnist"
      ],
      "execution_count": null,
      "outputs": []
    },
    {
      "cell_type": "code",
      "metadata": {
        "colab": {
          "base_uri": "https://localhost:8080/"
        },
        "id": "aVwgpYAVXp1x",
        "outputId": "2e9ab0bf-b9b2-486c-d909-9ba8bd6e324a"
      },
      "source": [
        "(x_train,y_train),(x_test,y_test)=mnist.load_data()\n",
        "print(x_train.shape)\n",
        "print(y_train.shape)\n",
        "print(x_test.shape)\n",
        "print(y_test.shape)"
      ],
      "execution_count": null,
      "outputs": [
        {
          "output_type": "stream",
          "text": [
            "Downloading data from https://storage.googleapis.com/tensorflow/tf-keras-datasets/mnist.npz\n",
            "11493376/11490434 [==============================] - 0s 0us/step\n",
            "(60000, 28, 28)\n",
            "(60000,)\n",
            "(10000, 28, 28)\n",
            "(10000,)\n"
          ],
          "name": "stdout"
        }
      ]
    },
    {
      "cell_type": "code",
      "metadata": {
        "id": "WeSDfM5maNVe"
      },
      "source": [
        "#converting float64->float32 to minimize computation\n",
        "#divide by 255 gray level value to normalize all pixels values between 0 to 1\n",
        "\n",
        "x_train=x_train.astype(\"float32\")/255.0\n",
        "x_test=x_test.astype(\"float32\")/255.0\n"
      ],
      "execution_count": null,
      "outputs": []
    },
    {
      "cell_type": "code",
      "metadata": {
        "id": "DJpx1kabXqpQ"
      },
      "source": [
        "#(None,28)->we don't have specific timestamp but we have 28 pixels in each timestamp\n",
        "#by default the activation function for simplernn is tanh\n",
        "model=keras.Sequential()\n",
        "model.add(keras.Input(shape=(None,28)))\n",
        "model.add(layers.SimpleRNN(512,return_sequences=True,activation='relu'))\n",
        "model.add(layers.SimpleRNN(512,activation='relu'))\n",
        "model.add(layers.Dense(10))\n",
        "\n",
        "print(model.summary())\n"
      ],
      "execution_count": null,
      "outputs": []
    },
    {
      "cell_type": "code",
      "metadata": {
        "id": "VrCSXORSciQs"
      },
      "source": [
        "##Training  network configuration\n",
        "# from_logits=True ->it's going to send the softmax function to the output layer of the network \n",
        "#and then it's going to map it to sparse categorical cross entropy\n",
        "\n",
        "model.compile(\n",
        "    loss=keras.losses.SparseCategoricalCrossentropy(from_logits=True),\n",
        "    optimizer=keras.optimizers.Adam(lr=0.001),\n",
        "    metrics=[\"accuracy\"],\n",
        ")"
      ],
      "execution_count": null,
      "outputs": []
    },
    {
      "cell_type": "code",
      "metadata": {
        "colab": {
          "base_uri": "https://localhost:8080/"
        },
        "id": "WzGAVWkZctvP",
        "outputId": "bf00b44f-d236-46a5-953e-6848e81eabf6"
      },
      "source": [
        "#More of the concrete training of that network\n",
        "\n",
        "model.fit(x_train,y_train,batch_size=64,epochs=10,verbose=2)\n",
        "model.evaluate(x_test,y_test,batch_size=64,verbose=2)\n"
      ],
      "execution_count": null,
      "outputs": [
        {
          "output_type": "stream",
          "text": [
            "Epoch 1/10\n",
            "938/938 - 188s - loss: 0.3180 - accuracy: 0.9011\n",
            "Epoch 2/10\n",
            "938/938 - 189s - loss: 0.1490 - accuracy: 0.9592\n",
            "Epoch 3/10\n",
            "938/938 - 191s - loss: 0.1157 - accuracy: 0.9689\n",
            "Epoch 4/10\n",
            "938/938 - 191s - loss: 0.1098 - accuracy: 0.9705\n",
            "Epoch 5/10\n",
            "938/938 - 184s - loss: 0.1069 - accuracy: 0.9714\n",
            "Epoch 6/10\n",
            "938/938 - 185s - loss: 0.0833 - accuracy: 0.9773\n",
            "Epoch 7/10\n",
            "938/938 - 190s - loss: 0.0771 - accuracy: 0.9792\n",
            "Epoch 8/10\n",
            "938/938 - 187s - loss: 0.0685 - accuracy: 0.9820\n",
            "Epoch 9/10\n",
            "938/938 - 189s - loss: 0.0726 - accuracy: 0.9804\n",
            "Epoch 10/10\n",
            "938/938 - 186s - loss: 0.0665 - accuracy: 0.9821\n",
            "157/157 - 9s - loss: 0.0690 - accuracy: 0.9790\n"
          ],
          "name": "stdout"
        },
        {
          "output_type": "execute_result",
          "data": {
            "text/plain": [
              "[0.06900323182344437, 0.9789999723434448]"
            ]
          },
          "metadata": {
            "tags": []
          },
          "execution_count": 7
        }
      ]
    }
  ]
}