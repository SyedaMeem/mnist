{
  "nbformat": 4,
  "nbformat_minor": 0,
  "metadata": {
    "colab": {
      "name": " MNIST using LSTM.ipynb",
      "provenance": [],
      "collapsed_sections": [],
      "authorship_tag": "ABX9TyNDDc9Drygw24gXi2DbtJOt",
      "include_colab_link": true
    },
    "kernelspec": {
      "name": "python3",
      "display_name": "Python 3"
    },
    "language_info": {
      "name": "python"
    }
  },
  "cells": [
    {
      "cell_type": "markdown",
      "metadata": {
        "id": "view-in-github",
        "colab_type": "text"
      },
      "source": [
        "<a href=\"https://colab.research.google.com/github/SyedaMeem/mnist/blob/main/MNIST_using_LSTM.ipynb\" target=\"_parent\"><img src=\"https://colab.research.google.com/assets/colab-badge.svg\" alt=\"Open In Colab\"/></a>"
      ]
    },
    {
      "cell_type": "code",
      "metadata": {
        "id": "SwNmFtAR7ufa"
      },
      "source": [
        "import tensorflow as tf"
      ],
      "execution_count": null,
      "outputs": []
    },
    {
      "cell_type": "code",
      "metadata": {
        "id": "791VmBxrXped"
      },
      "source": [
        "from tensorflow import keras\n",
        "from tensorflow.keras import layers\n",
        "from tensorflow.keras.datasets import mnist"
      ],
      "execution_count": null,
      "outputs": []
    },
    {
      "cell_type": "code",
      "metadata": {
        "colab": {
          "base_uri": "https://localhost:8080/"
        },
        "id": "aVwgpYAVXp1x",
        "outputId": "d5c491c5-e849-4066-d51c-1a2ee09c7d7c"
      },
      "source": [
        "(x_train,y_train),(x_test,y_test)=mnist.load_data()\n",
        "print(x_train.shape)\n",
        "print(y_train.shape)\n",
        "print(x_test.shape)\n",
        "print(y_test.shape)"
      ],
      "execution_count": null,
      "outputs": [
        {
          "output_type": "stream",
          "text": [
            "Downloading data from https://storage.googleapis.com/tensorflow/tf-keras-datasets/mnist.npz\n",
            "11493376/11490434 [==============================] - 0s 0us/step\n",
            "(60000, 28, 28)\n",
            "(60000,)\n",
            "(10000, 28, 28)\n",
            "(10000,)\n"
          ],
          "name": "stdout"
        }
      ]
    },
    {
      "cell_type": "code",
      "metadata": {
        "id": "WeSDfM5maNVe"
      },
      "source": [
        "#converting float64->float32 to minimize computation\n",
        "#divide by 255 gray level value to normalize all pixels values between 0 to 1\n",
        "\n",
        "x_train=x_train.astype(\"float32\")/255.0\n",
        "x_test=x_test.astype(\"float32\")/255.0\n"
      ],
      "execution_count": null,
      "outputs": []
    },
    {
      "cell_type": "code",
      "metadata": {
        "id": "0T633PfIePtl",
        "colab": {
          "base_uri": "https://localhost:8080/"
        },
        "outputId": "f12cddd2-faf1-45e2-a6c5-1f39c7014606"
      },
      "source": [
        "##LSTM Network\n",
        "#(None,28)->we don't have specific timestamp but we have 28 pixels in each timestamp\n",
        "\n",
        "model=keras.Sequential()\n",
        "model.add(keras.Input(shape=(None,28)))\n",
        "model.add(layers.LSTM(256,return_sequences=True,activation='tanh'))\n",
        "model.add(layers.LSTM(256,activation='tanh'))\n",
        "model.add(layers.Dense(10))\n",
        "\n",
        "print(model.summary())\n"
      ],
      "execution_count": null,
      "outputs": [
        {
          "output_type": "stream",
          "text": [
            "Model: \"sequential\"\n",
            "_________________________________________________________________\n",
            "Layer (type)                 Output Shape              Param #   \n",
            "=================================================================\n",
            "lstm (LSTM)                  (None, None, 256)         291840    \n",
            "_________________________________________________________________\n",
            "lstm_1 (LSTM)                (None, 256)               525312    \n",
            "_________________________________________________________________\n",
            "dense (Dense)                (None, 10)                2570      \n",
            "=================================================================\n",
            "Total params: 819,722\n",
            "Trainable params: 819,722\n",
            "Non-trainable params: 0\n",
            "_________________________________________________________________\n",
            "None\n"
          ],
          "name": "stdout"
        }
      ]
    },
    {
      "cell_type": "code",
      "metadata": {
        "id": "VrCSXORSciQs"
      },
      "source": [
        "##Training  network configuration\n",
        "# from_logits=True ->it's going to send the softmax function to the output layer of the network \n",
        "#and then it's going to map it to sparse categorical cross entropy\n",
        "\n",
        "model.compile(\n",
        "    loss=keras.losses.SparseCategoricalCrossentropy(from_logits=True),\n",
        "    optimizer=keras.optimizers.Adam(lr=0.001),\n",
        "    metrics=[\"accuracy\"],\n",
        ")"
      ],
      "execution_count": null,
      "outputs": []
    },
    {
      "cell_type": "code",
      "metadata": {
        "colab": {
          "base_uri": "https://localhost:8080/"
        },
        "id": "WzGAVWkZctvP",
        "outputId": "6453064d-15c6-479b-e607-e8b3fde9a837"
      },
      "source": [
        "#More of the concrete training of that network\n",
        "\n",
        "model.fit(x_train,y_train,batch_size=64,epochs=10,verbose=2)\n",
        "model.evaluate(x_test,y_test,batch_size=64,verbose=2)\n"
      ],
      "execution_count": null,
      "outputs": [
        {
          "output_type": "stream",
          "text": [
            "Epoch 1/10\n",
            "938/938 - 319s - loss: 1.1311 - accuracy: 0.5853\n",
            "Epoch 2/10\n",
            "938/938 - 313s - loss: 0.3493 - accuracy: 0.8865\n",
            "Epoch 3/10\n",
            "938/938 - 319s - loss: 0.1919 - accuracy: 0.9388\n",
            "Epoch 4/10\n",
            "938/938 - 316s - loss: 0.1292 - accuracy: 0.9588\n",
            "Epoch 5/10\n",
            "938/938 - 323s - loss: 0.1001 - accuracy: 0.9680\n",
            "Epoch 6/10\n",
            "938/938 - 321s - loss: 0.0866 - accuracy: 0.9724\n",
            "Epoch 7/10\n",
            "938/938 - 314s - loss: 0.0729 - accuracy: 0.9764\n",
            "Epoch 8/10\n",
            "938/938 - 319s - loss: 0.0635 - accuracy: 0.9799\n",
            "Epoch 9/10\n",
            "938/938 - 317s - loss: 0.0553 - accuracy: 0.9827\n",
            "Epoch 10/10\n",
            "938/938 - 314s - loss: 0.0513 - accuracy: 0.9835\n",
            "157/157 - 16s - loss: 0.0499 - accuracy: 0.9845\n"
          ],
          "name": "stdout"
        },
        {
          "output_type": "execute_result",
          "data": {
            "text/plain": [
              "[0.04988240823149681, 0.984499990940094]"
            ]
          },
          "metadata": {
            "tags": []
          },
          "execution_count": 8
        }
      ]
    }
  ]
}