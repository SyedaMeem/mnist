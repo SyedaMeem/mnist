{
  "nbformat": 4,
  "nbformat_minor": 0,
  "metadata": {
    "colab": {
      "name": "MNIST - using NN.ipynb",
      "provenance": [],
      "collapsed_sections": [],
      "authorship_tag": "ABX9TyMiEr1tD10/hYHKPhlJYh3m",
      "include_colab_link": true
    },
    "kernelspec": {
      "name": "python3",
      "display_name": "Python 3"
    },
    "language_info": {
      "name": "python"
    }
  },
  "cells": [
    {
      "cell_type": "markdown",
      "metadata": {
        "id": "view-in-github",
        "colab_type": "text"
      },
      "source": [
        "<a href=\"https://colab.research.google.com/github/SyedaMeem/mnist/blob/main/MNIST_using_NN.ipynb\" target=\"_parent\"><img src=\"https://colab.research.google.com/assets/colab-badge.svg\" alt=\"Open In Colab\"/></a>"
      ]
    },
    {
      "cell_type": "code",
      "metadata": {
        "id": "IfvDkiq3Uwed"
      },
      "source": [
        "import tensorflow as tf"
      ],
      "execution_count": null,
      "outputs": []
    },
    {
      "cell_type": "code",
      "metadata": {
        "id": "-VlAa6B_U9J-"
      },
      "source": [
        "from tensorflow import keras\n",
        "from tensorflow.keras import layers\n",
        "from tensorflow.keras.datasets import mnist"
      ],
      "execution_count": null,
      "outputs": []
    },
    {
      "cell_type": "code",
      "metadata": {
        "colab": {
          "base_uri": "https://localhost:8080/"
        },
        "id": "lYlXaKoqV70i",
        "outputId": "ba8c7cf2-e562-4697-a812-4ab597a7b9ec"
      },
      "source": [
        "(x_train,y_train),(x_test,y_test)=mnist.load_data()\n",
        "print(x_train.shape)\n",
        "print(y_train.shape)\n",
        "print(x_test.shape)\n",
        "print(y_test.shape)"
      ],
      "execution_count": null,
      "outputs": [
        {
          "output_type": "stream",
          "text": [
            "Downloading data from https://storage.googleapis.com/tensorflow/tf-keras-datasets/mnist.npz\n",
            "11493376/11490434 [==============================] - 0s 0us/step\n",
            "(60000, 28, 28)\n",
            "(60000,)\n",
            "(10000, 28, 28)\n",
            "(10000,)\n"
          ],
          "name": "stdout"
        }
      ]
    },
    {
      "cell_type": "code",
      "metadata": {
        "id": "hIw-zWLDWoLC"
      },
      "source": [
        "#flattening the row,column into one column\n",
        "#converting float64->float32 to minimize computation\n",
        "#divide by 255 gray level value to normalize all pixels values between 0 to 1\n",
        "\n",
        "x_train=x_train.reshape(-1,28*28).astype(\"float32\")/255.0\n",
        "x_test=x_test.reshape(-1,28*28).astype(\"float32\")/255.0\n",
        "\n",
        "\n",
        "#the above all reshaping operations are numpy operations we can explicitly convert these numpy to tensor as follow,but tensorflow implicitly done this job so we don't have to do this manually\n",
        "#x_train=tf.convert_to_tensor(x_train)\n",
        "#as like x_train we can do it for x_test,y_train,y_test"
      ],
      "execution_count": null,
      "outputs": []
    },
    {
      "cell_type": "markdown",
      "metadata": {
        "id": "b9dDeqp9I8W_"
      },
      "source": [
        "#Sequential API(convenient but not flexible)"
      ]
    },
    {
      "cell_type": "code",
      "metadata": {
        "colab": {
          "base_uri": "https://localhost:8080/"
        },
        "id": "reoa9MsY_vME",
        "outputId": "53e34e77-804c-44f7-9a9e-a36d8028a9e9"
      },
      "source": [
        "##Network\n",
        "\n",
        "model=keras.Sequential(\n",
        "    [\n",
        "     keras.Input(shape=(28*28)),\n",
        "     layers.Dense(512,activation='relu'),\n",
        "     layers.Dense(256,activation='relu'),\n",
        "     layers.Dense(10),\n",
        "    ]\n",
        ")\n",
        "print(model.summary())\n",
        "\n",
        "#we can write the above code as follows:\n",
        "#model=keras.Sequential()\n",
        "#model.add(keras.Input(shape=(28*28))) #layer index -> -4\n",
        "#model.add(layers.Dense(512,activation='relu',name=\"first_layer\")) #layer index -> -3\n",
        "#model.add(layers.Dense(256,activation='relu',name=\"second_layer\")) #layer index -> -2\n",
        "#model.add(layers.Dense(10)) #layer index -> -1\n",
        "\n",
        "##how to extract specific layer outputs which is useful for debugging purpose\n",
        "#@using layer index\n",
        "#model=keras.Model(inputs=model.inputs,outputs=[model.layers[-1].output])\n",
        "#feature=model.predict(x-train)\n",
        "#print(feature.shape)\n",
        "\n",
        "#@using layer name\n",
        "#model=keras.Model(inputs=model.inputs,outputs=[model.get_layer(\"first_layer\").output])\n",
        "#feature=model.predict(x-train)\n",
        "#print(feature.shape)\n",
        "\n",
        "#@getting all layers feature output\n",
        "#model=keras.Model(inputs=model.inputs,outputs=[layer.output for layer in model.layers])\n",
        "#features=model.predict(x-train)\n",
        "#for feature in features:\n",
        "#    print(feature.shape)"
      ],
      "execution_count": null,
      "outputs": [
        {
          "output_type": "stream",
          "text": [
            "Model: \"sequential_1\"\n",
            "_________________________________________________________________\n",
            "Layer (type)                 Output Shape              Param #   \n",
            "=================================================================\n",
            "dense_3 (Dense)              (None, 512)               401920    \n",
            "_________________________________________________________________\n",
            "dense_4 (Dense)              (None, 256)               131328    \n",
            "_________________________________________________________________\n",
            "dense_5 (Dense)              (None, 10)                2570      \n",
            "=================================================================\n",
            "Total params: 535,818\n",
            "Trainable params: 535,818\n",
            "Non-trainable params: 0\n",
            "_________________________________________________________________\n",
            "None\n"
          ],
          "name": "stdout"
        }
      ]
    },
    {
      "cell_type": "code",
      "metadata": {
        "id": "yqgmiu0WAwZJ"
      },
      "source": [
        "##Training  network configuration\n",
        "# from_logits=True ->it's going to send the softmax function to the output layer of the network \n",
        "#and then it's going to map it to sparse categorical cross entropy\n",
        "\n",
        "model.compile(\n",
        "    loss=keras.losses.SparseCategoricalCrossentropy(from_logits=True),\n",
        "    optimizer=keras.optimizers.Adam(lr=0.001),\n",
        "    metrics=[\"accuracy\"],\n",
        ")"
      ],
      "execution_count": null,
      "outputs": []
    },
    {
      "cell_type": "code",
      "metadata": {
        "colab": {
          "base_uri": "https://localhost:8080/"
        },
        "id": "sKQTv4InELWE",
        "outputId": "bfaaf04b-7b68-496d-838e-1399b0e86ef8"
      },
      "source": [
        "#More of the concrete training of that network\n",
        "\n",
        "model.fit(x_train,y_train,batch_size=32,epochs=5,verbose=2)\n",
        "model.evaluate(x_test,y_test,batch_size=32,verbose=2)\n"
      ],
      "execution_count": null,
      "outputs": [
        {
          "output_type": "stream",
          "text": [
            "Epoch 1/5\n",
            "1875/1875 - 8s - loss: 0.1868 - accuracy: 0.9435\n",
            "Epoch 2/5\n",
            "1875/1875 - 8s - loss: 0.0787 - accuracy: 0.9757\n",
            "Epoch 3/5\n",
            "1875/1875 - 8s - loss: 0.0538 - accuracy: 0.9828\n",
            "Epoch 4/5\n",
            "1875/1875 - 8s - loss: 0.0413 - accuracy: 0.9869\n",
            "Epoch 5/5\n",
            "1875/1875 - 8s - loss: 0.0324 - accuracy: 0.9895\n",
            "313/313 - 1s - loss: 0.0808 - accuracy: 0.9770\n"
          ],
          "name": "stdout"
        },
        {
          "output_type": "execute_result",
          "data": {
            "text/plain": [
              "[0.08084864169359207, 0.9769999980926514]"
            ]
          },
          "metadata": {
            "tags": []
          },
          "execution_count": 10
        }
      ]
    },
    {
      "cell_type": "markdown",
      "metadata": {
        "id": "TsFRd2XhJM-o"
      },
      "source": [
        "#Functional API(A bit more flexible,handle multiple inputs and multiple outputs)"
      ]
    },
    {
      "cell_type": "code",
      "metadata": {
        "colab": {
          "base_uri": "https://localhost:8080/"
        },
        "id": "Y1kivRLTHw6W",
        "outputId": "b4f719d9-ef7f-450f-9ca8-0769b71cb64e"
      },
      "source": [
        "##Network\n",
        "\n",
        "inputs=keras.Input(shape=(28*28))\n",
        "x=layers.Dense(512,activation='relu',name=\"first_layer\")(inputs)\n",
        "x=layers.Dense(256,activation='relu',name=\"second_layer\")(x)\n",
        "outputs=layers.Dense(10,activation='softmax')(x)\n",
        "model=keras.Model(inputs=inputs,outputs=outputs)\n",
        "\n",
        "print(model.summary())"
      ],
      "execution_count": null,
      "outputs": [
        {
          "output_type": "stream",
          "text": [
            "Model: \"model_1\"\n",
            "_________________________________________________________________\n",
            "Layer (type)                 Output Shape              Param #   \n",
            "=================================================================\n",
            "input_3 (InputLayer)         [(None, 784)]             0         \n",
            "_________________________________________________________________\n",
            "first_layer (Dense)          (None, 512)               401920    \n",
            "_________________________________________________________________\n",
            "second_layer (Dense)         (None, 256)               131328    \n",
            "_________________________________________________________________\n",
            "dense_9 (Dense)              (None, 10)                2570      \n",
            "=================================================================\n",
            "Total params: 535,818\n",
            "Trainable params: 535,818\n",
            "Non-trainable params: 0\n",
            "_________________________________________________________________\n",
            "None\n"
          ],
          "name": "stdout"
        }
      ]
    },
    {
      "cell_type": "code",
      "metadata": {
        "id": "yOeHG7c-KuoM"
      },
      "source": [
        "##Training  network configuration\n",
        "# from_logits=False ->it's going to only map network to sparse categorical cross entropy\n",
        "#it is set by default,so do not mention it explicitly\n",
        "model.compile(\n",
        "    loss=keras.losses.SparseCategoricalCrossentropy(from_logits=False),\n",
        "    optimizer=keras.optimizers.Adam(lr=0.001),\n",
        "    metrics=[\"accuracy\"],\n",
        ")"
      ],
      "execution_count": null,
      "outputs": []
    },
    {
      "cell_type": "code",
      "metadata": {
        "colab": {
          "base_uri": "https://localhost:8080/"
        },
        "id": "I0X_jRfDLY5V",
        "outputId": "4db3c2cb-937b-413b-b771-96dc2d9f0b98"
      },
      "source": [
        "#More of the concrete training of that network\n",
        "\n",
        "model.fit(x_train,y_train,batch_size=32,epochs=5,verbose=2)\n",
        "model.evaluate(x_test,y_test,batch_size=32,verbose=2)"
      ],
      "execution_count": null,
      "outputs": [
        {
          "output_type": "stream",
          "text": [
            "Epoch 1/5\n",
            "1875/1875 - 8s - loss: 0.1841 - accuracy: 0.9438\n",
            "Epoch 2/5\n",
            "1875/1875 - 8s - loss: 0.0774 - accuracy: 0.9757\n",
            "Epoch 3/5\n",
            "1875/1875 - 8s - loss: 0.0530 - accuracy: 0.9835\n",
            "Epoch 4/5\n",
            "1875/1875 - 8s - loss: 0.0415 - accuracy: 0.9872\n",
            "Epoch 5/5\n",
            "1875/1875 - 8s - loss: 0.0312 - accuracy: 0.9898\n",
            "313/313 - 1s - loss: 0.0871 - accuracy: 0.9768\n"
          ],
          "name": "stdout"
        },
        {
          "output_type": "execute_result",
          "data": {
            "text/plain": [
              "[0.08705500513315201, 0.9768000245094299]"
            ]
          },
          "metadata": {
            "tags": []
          },
          "execution_count": 13
        }
      ]
    }
  ]
}